{
 "cells": [
  {
   "cell_type": "code",
   "execution_count": 13,
   "id": "0dde0774-141d-418a-8b6e-02a84efbae70",
   "metadata": {
    "tags": []
   },
   "outputs": [],
   "source": [
    "config = {\n",
    "    'host':'host',\n",
    "    'user':'user',\n",
    "    'password':'password',\n",
    "    'database':'database'\n",
    "}"
   ]
  },
  {
   "cell_type": "code",
   "execution_count": 14,
   "id": "03d8ddee-8a93-4724-be6b-eaaf807443d0",
   "metadata": {},
   "outputs": [
    {
     "name": "stdout",
     "output_type": "stream",
     "text": [
      "Connection established\n"
     ]
    }
   ],
   "source": [
    "import mysql.connector\n",
    "from mysql.connector import errorcode\n",
    "# Construct connection string\n",
    "try:\n",
    "    conn = mysql.connector.connect(**config)\n",
    "    print(\"Connection established\")\n",
    "except mysql.connector.Error as err:\n",
    "    if err.errno == errorcode.ER_ACCESS_DENIED_ERROR:\n",
    "        print(\"Something is wrong with the user name or password\")\n",
    "    elif err.errno == errorcode.ER_BAD_DB_ERROR:\n",
    "        print(\"Database does not exist\")\n",
    "    else:\n",
    "        print(err)\n",
    "else:\n",
    "    cursor = conn.cursor()"
   ]
  },
  {
   "cell_type": "code",
   "execution_count": 5,
   "id": "9cce8d99-31eb-4087-adad-6309ec2203d2",
   "metadata": {},
   "outputs": [
    {
     "name": "stdout",
     "output_type": "stream",
     "text": [
      "productsテーブルを作成しました。\n",
      "tradesテーブルを作成しました。\n",
      "taxsテーブルを作成しました。\n"
     ]
    },
    {
     "ename": "DatabaseError",
     "evalue": "1215 (HY000): Cannot add foreign key constraint",
     "output_type": "error",
     "traceback": [
      "\u001b[0;31m---------------------------------------------------------------------------\u001b[0m",
      "\u001b[0;31mDatabaseError\u001b[0m                             Traceback (most recent call last)",
      "Cell \u001b[0;32mIn[5], line 38\u001b[0m\n\u001b[1;32m     35\u001b[0m \u001b[38;5;28mprint\u001b[39m(\u001b[38;5;124m\"\u001b[39m\u001b[38;5;124mtaxsテーブルを作成しました。\u001b[39m\u001b[38;5;124m\"\u001b[39m)\n\u001b[1;32m     37\u001b[0m \u001b[38;5;66;03m# trade_detailsテーブルの作成\u001b[39;00m\n\u001b[0;32m---> 38\u001b[0m cursor\u001b[38;5;241m.\u001b[39mexecute(\u001b[38;5;124m\"\"\"\u001b[39m\n\u001b[1;32m     39\u001b[0m \u001b[38;5;124mCREATE TABLE trade_details (\u001b[39m\n\u001b[1;32m     40\u001b[0m \u001b[38;5;124m    trd_id INT NOT NULL,\u001b[39m\n\u001b[1;32m     41\u001b[0m \u001b[38;5;124m    dtl_id INT AUTO_INCREMENT PRIMARY KEY,\u001b[39m\n\u001b[1;32m     42\u001b[0m \u001b[38;5;124m    prd_id INT NOT NULL,\u001b[39m\n\u001b[1;32m     43\u001b[0m \u001b[38;5;124m    prd_code VARCHAR(13) NOT NULL,\u001b[39m\n\u001b[1;32m     44\u001b[0m \u001b[38;5;124m    prd_name VARCHAR(50) NOT NULL,\u001b[39m\n\u001b[1;32m     45\u001b[0m \u001b[38;5;124m    prd_price INT NOT NULL,\u001b[39m\n\u001b[1;32m     46\u001b[0m \u001b[38;5;124m    tax_cd VARCHAR(2),\u001b[39m\n\u001b[1;32m     47\u001b[0m \u001b[38;5;124m    FOREIGN KEY (trd_id) REFERENCES trades(trd_id),\u001b[39m\n\u001b[1;32m     48\u001b[0m \u001b[38;5;124m    FOREIGN KEY (prd_id) REFERENCES products(id),\u001b[39m\n\u001b[1;32m     49\u001b[0m \u001b[38;5;124m    FOREIGN KEY (tax_cd) REFERENCES taxs(code)\u001b[39m\n\u001b[1;32m     50\u001b[0m \u001b[38;5;124m);\u001b[39m\n\u001b[1;32m     51\u001b[0m \u001b[38;5;124m\"\"\"\u001b[39m)\n\u001b[1;32m     52\u001b[0m \u001b[38;5;28mprint\u001b[39m(\u001b[38;5;124m\"\u001b[39m\u001b[38;5;124mtrade_detailsテーブルを作成しました。\u001b[39m\u001b[38;5;124m\"\u001b[39m)\n",
      "File \u001b[0;32m~/anaconda3/envs/reskill_dev2/lib/python3.11/site-packages/mysql/connector/cursor.py:748\u001b[0m, in \u001b[0;36mMySQLCursor.execute\u001b[0;34m(self, operation, params, multi)\u001b[0m\n\u001b[1;32m    745\u001b[0m     \u001b[38;5;28;01mreturn\u001b[39;00m \u001b[38;5;28mself\u001b[39m\u001b[38;5;241m.\u001b[39m_execute_iter(\u001b[38;5;28mself\u001b[39m\u001b[38;5;241m.\u001b[39m_connection\u001b[38;5;241m.\u001b[39mcmd_query_iter(stmt))\n\u001b[1;32m    747\u001b[0m \u001b[38;5;28;01mtry\u001b[39;00m:\n\u001b[0;32m--> 748\u001b[0m     \u001b[38;5;28mself\u001b[39m\u001b[38;5;241m.\u001b[39m_handle_result(\u001b[38;5;28mself\u001b[39m\u001b[38;5;241m.\u001b[39m_connection\u001b[38;5;241m.\u001b[39mcmd_query(stmt))\n\u001b[1;32m    749\u001b[0m \u001b[38;5;28;01mexcept\u001b[39;00m InterfaceError \u001b[38;5;28;01mas\u001b[39;00m err:\n\u001b[1;32m    750\u001b[0m     \u001b[38;5;28;01mif\u001b[39;00m \u001b[38;5;28mself\u001b[39m\u001b[38;5;241m.\u001b[39m_connection\u001b[38;5;241m.\u001b[39mhave_next_result:\n",
      "File \u001b[0;32m~/anaconda3/envs/reskill_dev2/lib/python3.11/site-packages/mysql/connector/opentelemetry/context_propagation.py:74\u001b[0m, in \u001b[0;36mwith_context_propagation.<locals>.wrapper\u001b[0;34m(cnx, *args, **kwargs)\u001b[0m\n\u001b[1;32m     72\u001b[0m \u001b[38;5;250m\u001b[39m\u001b[38;5;124;03m\"\"\"Context propagation decorator.\"\"\"\u001b[39;00m\n\u001b[1;32m     73\u001b[0m \u001b[38;5;28;01mif\u001b[39;00m \u001b[38;5;129;01mnot\u001b[39;00m OTEL_ENABLED \u001b[38;5;129;01mor\u001b[39;00m \u001b[38;5;129;01mnot\u001b[39;00m cnx\u001b[38;5;241m.\u001b[39motel_context_propagation:\n\u001b[0;32m---> 74\u001b[0m     \u001b[38;5;28;01mreturn\u001b[39;00m method(cnx, \u001b[38;5;241m*\u001b[39margs, \u001b[38;5;241m*\u001b[39m\u001b[38;5;241m*\u001b[39mkwargs)\n\u001b[1;32m     76\u001b[0m current_span \u001b[38;5;241m=\u001b[39m trace\u001b[38;5;241m.\u001b[39mget_current_span()\n\u001b[1;32m     77\u001b[0m tp_header \u001b[38;5;241m=\u001b[39m \u001b[38;5;28;01mNone\u001b[39;00m\n",
      "File \u001b[0;32m~/anaconda3/envs/reskill_dev2/lib/python3.11/site-packages/mysql/connector/connection.py:855\u001b[0m, in \u001b[0;36mMySQLConnection.cmd_query\u001b[0;34m(self, query, raw, buffered, raw_as_string)\u001b[0m\n\u001b[1;32m    853\u001b[0m query \u001b[38;5;241m=\u001b[39m \u001b[38;5;28mbytes\u001b[39m(packet)\n\u001b[1;32m    854\u001b[0m \u001b[38;5;28;01mtry\u001b[39;00m:\n\u001b[0;32m--> 855\u001b[0m     result \u001b[38;5;241m=\u001b[39m \u001b[38;5;28mself\u001b[39m\u001b[38;5;241m.\u001b[39m_handle_result(\u001b[38;5;28mself\u001b[39m\u001b[38;5;241m.\u001b[39m_send_cmd(ServerCmd\u001b[38;5;241m.\u001b[39mQUERY, query))\n\u001b[1;32m    856\u001b[0m \u001b[38;5;28;01mexcept\u001b[39;00m ProgrammingError \u001b[38;5;28;01mas\u001b[39;00m err:\n\u001b[1;32m    857\u001b[0m     \u001b[38;5;28;01mif\u001b[39;00m err\u001b[38;5;241m.\u001b[39merrno \u001b[38;5;241m==\u001b[39m \u001b[38;5;241m3948\u001b[39m \u001b[38;5;129;01mand\u001b[39;00m \u001b[38;5;124m\"\u001b[39m\u001b[38;5;124mLoading local data is disabled\u001b[39m\u001b[38;5;124m\"\u001b[39m \u001b[38;5;129;01min\u001b[39;00m err\u001b[38;5;241m.\u001b[39mmsg:\n",
      "File \u001b[0;32m~/anaconda3/envs/reskill_dev2/lib/python3.11/site-packages/mysql/connector/connection.py:631\u001b[0m, in \u001b[0;36mMySQLConnection._handle_result\u001b[0;34m(self, packet)\u001b[0m\n\u001b[1;32m    629\u001b[0m     \u001b[38;5;28;01mreturn\u001b[39;00m \u001b[38;5;28mself\u001b[39m\u001b[38;5;241m.\u001b[39m_handle_eof(packet)\n\u001b[1;32m    630\u001b[0m \u001b[38;5;28;01mif\u001b[39;00m packet[\u001b[38;5;241m4\u001b[39m] \u001b[38;5;241m==\u001b[39m \u001b[38;5;241m255\u001b[39m:\n\u001b[0;32m--> 631\u001b[0m     \u001b[38;5;28;01mraise\u001b[39;00m get_exception(packet)\n\u001b[1;32m    633\u001b[0m \u001b[38;5;66;03m# We have a text result set\u001b[39;00m\n\u001b[1;32m    634\u001b[0m column_count \u001b[38;5;241m=\u001b[39m \u001b[38;5;28mself\u001b[39m\u001b[38;5;241m.\u001b[39m_protocol\u001b[38;5;241m.\u001b[39mparse_column_count(packet)\n",
      "\u001b[0;31mDatabaseError\u001b[0m: 1215 (HY000): Cannot add foreign key constraint"
     ]
    }
   ],
   "source": [
    "# productsテーブルの作成\n",
    "cursor.execute(\"\"\"\n",
    "CREATE TABLE products (\n",
    "    id INT AUTO_INCREMENT PRIMARY KEY,\n",
    "    code VARCHAR(13) NOT NULL UNIQUE,\n",
    "    name VARCHAR(50),\n",
    "    price INT NOT NULL\n",
    ");\n",
    "\"\"\")\n",
    "print(\"productsテーブルを作成しました。\")\n",
    "\n",
    "# tradesテーブルの作成\n",
    "cursor.execute(\"\"\"\n",
    "CREATE TABLE trades (\n",
    "    id INT AUTO_INCREMENT PRIMARY KEY,\n",
    "    datetime DATETIME DEFAULT CURRENT_TIMESTAMP,\n",
    "    emp_cd VARCHAR(10) NOT NULL,\n",
    "    store_cd VARCHAR(5) NOT NULL,\n",
    "    pos_cd VARCHAR(3) NOT NULL,\n",
    "    total_amt INT,\n",
    "    ttl_amt_ex_tax INT\n",
    ");\n",
    "\"\"\")\n",
    "print(\"tradesテーブルを作成しました。\")\n",
    "\n",
    "# taxsテーブルの作成\n",
    "cursor.execute(\"\"\"\n",
    "CREATE TABLE taxs (\n",
    "    trd_id INT AUTO_INCREMENT PRIMARY KEY,\n",
    "    code VARCHAR(2) UNIQUE,\n",
    "    name VARCHAR(20),\n",
    "    percent DECIMAL(5, 2)\n",
    ");\n",
    "\"\"\")\n",
    "print(\"taxsテーブルを作成しました。\")\n",
    "\n",
    "# trade_detailsテーブルの作成\n",
    "cursor.execute(\"\"\"\n",
    "CREATE TABLE trade_details (\n",
    "    trd_id INT NOT NULL,\n",
    "    dtl_id INT AUTO_INCREMENT PRIMARY KEY,\n",
    "    prd_id INT NOT NULL,\n",
    "    prd_code VARCHAR(13) NOT NULL,\n",
    "    prd_name VARCHAR(50) NOT NULL,\n",
    "    prd_price INT NOT NULL,\n",
    "    tax_cd VARCHAR(2),\n",
    "    FOREIGN KEY (trd_id) REFERENCES trades(trd_id),\n",
    "    FOREIGN KEY (prd_id) REFERENCES products(id),\n",
    "    FOREIGN KEY (tax_cd) REFERENCES taxs(code)\n",
    ");\n",
    "\"\"\")\n",
    "print(\"trade_detailsテーブルを作成しました。\")"
   ]
  },
  {
   "cell_type": "code",
   "execution_count": 7,
   "id": "c76cc0dc",
   "metadata": {},
   "outputs": [
    {
     "name": "stdout",
     "output_type": "stream",
     "text": [
      "trade_detailsテーブルを作成しました。\n"
     ]
    }
   ],
   "source": [
    "# trade_detailsテーブルの作成\n",
    "cursor.execute(\"\"\"\n",
    "CREATE TABLE trade_details (\n",
    "    trd_id INT NOT NULL,\n",
    "    dtl_id INT AUTO_INCREMENT PRIMARY KEY,\n",
    "    prd_id INT NOT NULL,\n",
    "    prd_code VARCHAR(13) NOT NULL,\n",
    "    prd_name VARCHAR(50) NOT NULL,\n",
    "    prd_price INT NOT NULL,\n",
    "    tax_cd VARCHAR(2),\n",
    "    FOREIGN KEY (trd_id) REFERENCES trades(id),\n",
    "    FOREIGN KEY (prd_id) REFERENCES products(id),\n",
    "    FOREIGN KEY (tax_cd) REFERENCES taxs(code)\n",
    ");\n",
    "\"\"\")\n",
    "print(\"trade_detailsテーブルを作成しました。\")"
   ]
  },
  {
   "cell_type": "code",
   "execution_count": 16,
   "id": "a225cb4c",
   "metadata": {},
   "outputs": [
    {
     "name": "stdout",
     "output_type": "stream",
     "text": [
      "productsテーブルから全てのデータを削除しました。\n"
     ]
    }
   ],
   "source": [
    "# productsテーブルから全てのデータを削除\n",
    "cursor.execute(\"DELETE FROM products\")\n",
    "conn.commit()\n",
    "print(\"productsテーブルから全てのデータを削除しました。\")"
   ]
  },
  {
   "cell_type": "code",
   "execution_count": 17,
   "id": "bbdac9b0",
   "metadata": {},
   "outputs": [],
   "source": [
    "products_data = [\n",
    "    ('49716351', 'ハウス バジル 瓶 4g', 120),\n",
    "    ('9784095018553', 'オールカラー 学習漢字新辞典 第2版', 1595),\n",
    "    ('4513574029606', '麗白 ハトムギ ボディミルク 400ml', 153),\n",
    "    ('4987286414263', 'ベビーワセリン 100g', 400)\n",
    "]\n",
    "\n",
    "for product in products_data:\n",
    "    cursor.execute(\n",
    "        \"INSERT INTO products (code, name, price) VALUES (%s, %s, %s)\",\n",
    "        product\n",
    "    )\n",
    "\n",
    "conn.commit()"
   ]
  },
  {
   "cell_type": "code",
   "execution_count": 18,
   "id": "da5c6001",
   "metadata": {},
   "outputs": [
    {
     "name": "stdout",
     "output_type": "stream",
     "text": [
      "データベース内のテーブル一覧:\n",
      "products\n",
      "taxs\n",
      "trade_details\n",
      "trades\n"
     ]
    }
   ],
   "source": [
    "cursor.execute(\"SHOW TABLES\")\n",
    "tables = cursor.fetchall()\n",
    "print(\"データベース内のテーブル一覧:\")\n",
    "for table in tables:\n",
    "    print(table[0])"
   ]
  },
  {
   "cell_type": "code",
   "execution_count": 23,
   "id": "0c33a6ae",
   "metadata": {},
   "outputs": [
    {
     "name": "stdout",
     "output_type": "stream",
     "text": [
      "\n",
      "'products'テーブルのカラム情報:\n",
      "('trd_id', 'int(11)', 'NO', 'PRI', None, 'auto_increment')\n",
      "('code', 'varchar(2)', 'YES', 'UNI', None, '')\n",
      "('name', 'varchar(20)', 'YES', '', None, '')\n",
      "('percent', 'decimal(5,2)', 'YES', '', None, '')\n"
     ]
    }
   ],
   "source": [
    "cursor.execute(\"DESCRIBE taxs\")\n",
    "columns = cursor.fetchall()\n",
    "print(\"\\n'products'テーブルのカラム情報:\")\n",
    "for column in columns:\n",
    "    print(column)"
   ]
  },
  {
   "cell_type": "code",
   "execution_count": 22,
   "id": "d1dd4a1a",
   "metadata": {},
   "outputs": [
    {
     "name": "stdout",
     "output_type": "stream",
     "text": [
      "\n",
      "'products'テーブルのレコード:\n",
      "(5, '49716351', 'ハウス バジル 瓶 4g', 120)\n",
      "(6, '9784095018553', 'オールカラー 学習漢字新辞典 第2版', 1595)\n",
      "(7, '4513574029606', '麗白 ハトムギ ボディミルク 400ml', 153)\n",
      "(8, '4987286414263', 'ベビーワセリン 100g', 400)\n"
     ]
    }
   ],
   "source": [
    "cursor.execute(\"SELECT * FROM products\")\n",
    "records = cursor.fetchall()\n",
    "print(\"\\n'products'テーブルのレコード:\")\n",
    "for record in records:\n",
    "    print(record)"
   ]
  },
  {
   "cell_type": "code",
   "execution_count": 25,
   "id": "498b8848",
   "metadata": {},
   "outputs": [
    {
     "name": "stdout",
     "output_type": "stream",
     "text": [
      "taxsテーブルのカラム名を 'trd_id' から 'id' に変更しました。\n"
     ]
    }
   ],
   "source": [
    "cursor.execute(\"ALTER TABLE taxs CHANGE COLUMN trd_id id INT AUTO_INCREMENT\")\n",
    "conn.commit()\n",
    "print(\"taxsテーブルのカラム名を 'trd_id' から 'id' に変更しました。\")"
   ]
  },
  {
   "cell_type": "code",
   "execution_count": null,
   "id": "c48410e1",
   "metadata": {},
   "outputs": [],
   "source": []
  },
  {
   "cell_type": "code",
   "execution_count": 33,
   "id": "a96c9f12",
   "metadata": {},
   "outputs": [
    {
     "name": "stdout",
     "output_type": "stream",
     "text": [
      "\n",
      "'trade_details'テーブルのカラム情報:\n",
      "('trd_id', 'int(11)', 'NO', 'MUL', None, '')\n",
      "('dtl_id', 'int(11)', 'NO', 'PRI', None, 'auto_increment')\n",
      "('prd_id', 'int(11)', 'NO', 'MUL', None, '')\n",
      "('prd_code', 'varchar(13)', 'NO', '', None, '')\n",
      "('prd_name', 'varchar(50)', 'NO', '', None, '')\n",
      "('prd_price', 'int(11)', 'NO', '', None, '')\n",
      "('tax_cd', 'varchar(2)', 'YES', 'MUL', None, '')\n"
     ]
    }
   ],
   "source": [
    "cursor.execute(\"DESCRIBE trade_details\")\n",
    "columns = cursor.fetchall()\n",
    "print(\"\\n'trade_details'テーブルのカラム情報:\")\n",
    "for column in columns:\n",
    "    print(column)"
   ]
  },
  {
   "cell_type": "code",
   "execution_count": 27,
   "id": "39c380bc",
   "metadata": {},
   "outputs": [
    {
     "name": "stdout",
     "output_type": "stream",
     "text": [
      "taxsテーブルに新しいレコードを追加しました。\n"
     ]
    }
   ],
   "source": [
    "# 追加したいレコードの値\n",
    "code = '10'  # VARCHAR型なので文字列として扱います\n",
    "name = '10%'  # 同上\n",
    "percent = 10.00  # DECIMAL型\n",
    "\n",
    "# INSERT INTO ステートメントを実行\n",
    "cursor.execute(\n",
    "    \"INSERT INTO taxs (code, name, percent) VALUES (%s, %s, %s)\",\n",
    "    (code, name, percent)\n",
    ")\n",
    "\n",
    "# 変更をコミット\n",
    "conn.commit()\n",
    "\n",
    "print(\"taxsテーブルに新しいレコードを追加しました。\")"
   ]
  },
  {
   "cell_type": "code",
   "execution_count": 28,
   "id": "6d6e83ba",
   "metadata": {},
   "outputs": [
    {
     "name": "stdout",
     "output_type": "stream",
     "text": [
      "\n",
      "'taxs'テーブルのレコード:\n",
      "(1, '10', '10%', Decimal('10.00'))\n"
     ]
    }
   ],
   "source": [
    "cursor.execute(\"SELECT * FROM taxs\")\n",
    "records = cursor.fetchall()\n",
    "print(\"\\n'taxs'テーブルのレコード:\")\n",
    "for record in records:\n",
    "    print(record)"
   ]
  },
  {
   "cell_type": "code",
   "execution_count": 30,
   "id": "137b7ae8",
   "metadata": {},
   "outputs": [
    {
     "name": "stdout",
     "output_type": "stream",
     "text": [
      "\n",
      "'trades'テーブルのレコード:\n",
      "(1, datetime.datetime(2024, 2, 20, 22, 45, 49), '', '30', '90', 0, None)\n"
     ]
    }
   ],
   "source": [
    "cursor.execute(\"SELECT * FROM trades\")\n",
    "records = cursor.fetchall()\n",
    "print(\"\\n'trades'テーブルのレコード:\")\n",
    "for record in records:\n",
    "    print(record)"
   ]
  },
  {
   "cell_type": "code",
   "execution_count": 36,
   "id": "b39d5d93",
   "metadata": {},
   "outputs": [
    {
     "name": "stdout",
     "output_type": "stream",
     "text": [
      "\n",
      "'trades'テーブルのレコード:\n",
      "(1, datetime.datetime(2024, 2, 20, 22, 45, 49), '', '30', '90', 0, None)\n"
     ]
    }
   ],
   "source": [
    "cursor.execute(\"SELECT * FROM trades\")\n",
    "records = cursor.fetchall()\n",
    "print(\"\\n'trades'テーブルのレコード:\")\n",
    "for record in records:\n",
    "    print(record)"
   ]
  },
  {
   "cell_type": "code",
   "execution_count": null,
   "id": "97bd26d4",
   "metadata": {},
   "outputs": [],
   "source": []
  }
 ],
 "metadata": {
  "kernelspec": {
   "display_name": "Python 3 (ipykernel)",
   "language": "python",
   "name": "python3"
  },
  "language_info": {
   "codemirror_mode": {
    "name": "ipython",
    "version": 3
   },
   "file_extension": ".py",
   "mimetype": "text/x-python",
   "name": "python",
   "nbconvert_exporter": "python",
   "pygments_lexer": "ipython3",
   "version": "3.11.5"
  }
 },
 "nbformat": 4,
 "nbformat_minor": 5
}
